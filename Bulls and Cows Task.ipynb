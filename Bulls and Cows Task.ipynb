{
 "cells": [
  {
   "cell_type": "markdown",
   "metadata": {},
   "source": [
    "# BULLS AND COWS TASK FOR EGRESS"
   ]
  },
  {
   "cell_type": "markdown",
   "metadata": {},
   "source": [
    "## Task Overview\n",
    "\n",
    "Bulls and Cows is an old code-breaking game for two players.\n",
    "\n",
    "One of the players writes a 4-digit secret number. The digits must be all different, digit zero (0) is not allowed. Then the other player tries to guess their opponent's number who gives the number of matches. If the matching digits are on their right positions, they are \"bulls\", if on different positions, they are \"cows\". Example:\n",
    "\n",
    "• Secret number: 4271\n",
    "• Opponent's try: 1234\n",
    "• Answer: 1 bull and 2 cows. (The bull is \"2\", the cows are \"4\" and \"1\".)\n",
    "\n",
    "The task is to figure out the secret number (“4 bulls”).\n",
    "Write a game where computer generates a 4 digits number (the digits must be all different, digit zero (0) is not allowed), and then repeatedly asks for the human guesses, and prints the output, until the number is found."
   ]
  },
  {
   "cell_type": "code",
   "execution_count": 1,
   "metadata": {},
   "outputs": [],
   "source": [
    "import random"
   ]
  },
  {
   "cell_type": "code",
   "execution_count": 2,
   "metadata": {},
   "outputs": [],
   "source": [
    "#Initialising the strings that will be used in the game:"
   ]
  },
  {
   "cell_type": "code",
   "execution_count": 3,
   "metadata": {},
   "outputs": [],
   "source": [
    "TRY_AGAIN_STRING = \"Please try again. \"\n",
    "WELCOME_STRING = \"Welcome to the game 'Bulls and Cows'\"\n",
    "GAMEMODE_SELECTED = \"You have selected the %s gamemode \\n\"\n",
    "DIGITS_NUMBER_SELECTED = \"You have selected %s number of digits\"\n",
    "GUESS_NUMBER_SELECTED = \"Your guess number is %s\"\n",
    "CHOOSE_GAMEMODE_STRING = \"\"\"Please select the gamemode.\n",
    "(1: You guess, 2: Computer guess): \"\"\"\n",
    "ENTER_DIGITS_NUMBER_STRING = \"\"\"Please select the size of the number for the computer to generate. \n",
    "(From 1 to 9): \"\"\"\n",
    "ENTER_NUMBER_STRING = \"Please type your guess number \" + \"\\n(%s numbers maximum): \"\n",
    "SET_SECRET_STRING = \"Please type your secret number for computer to guess \"\n",
    "EXCEPTION_STRING = \"The exception. \"\n",
    "OUT_OF_RANGE_STRING = \"The number you entered is out of allowed range.\"\n",
    "GENERATING_RANDOM_NUMBER_STRING = \"Generating  the number of size %s ...\"\n",
    "COWS_AND_BULLS_CALCULATED_STRING = \"Your number has %s bulls and %d cows.\"\n",
    "WIN_STRING = \"Congratulation! You guessed the number (in %s steps!)\"\n",
    "GOODBYE_STRING = \"Goodbye!\"\n",
    "PLAY_AGAIN_STRING = \"Do you want to play again? (1 for yes, 2 for no)\"\n",
    "COMPUTER_WIN_STRING = \"The computer guessed the number with %s steps\""
   ]
  },
  {
   "cell_type": "code",
   "execution_count": 4,
   "metadata": {},
   "outputs": [],
   "source": [
    "steps = 0\n",
    "guessNum = []\n",
    "secNum = []\n",
    "bulls = 0\n",
    "cows = 0\n",
    "DIGITS = [1,2,3,4,5,6,7,8,9]\n",
    "n = 0;\n",
    "endGame = False"
   ]
  },
  {
   "cell_type": "code",
   "execution_count": 5,
   "metadata": {},
   "outputs": [],
   "source": [
    "from random import randint\n",
    "\n",
    "def getShuffledList(listIn):\n",
    "    listOut = listIn;\n",
    "    n = len(listIn);\n",
    "    for i in range(n):\n",
    "        randomValue = i + randint(0,n-i)\n",
    "        if(randomValue == n):\n",
    "            randomValue = n-1\n",
    "        randomElement = listOut[randomValue]\n",
    "        listOut[randomValue] = listOut[i]\n",
    "        listOut[i] = randomElement\n",
    "    return listOut;"
   ]
  },
  {
   "cell_type": "code",
   "execution_count": 6,
   "metadata": {},
   "outputs": [],
   "source": [
    "def genRandNum(n):\n",
    "    global DIGITS\n",
    "    print(GENERATING_RANDOM_NUMBER_STRING % n)\n",
    "    num = []\n",
    "    digits = getShuffledList(DIGITS)\n",
    "    for i in range(n):\n",
    "        num.append(digits[i])\n",
    "    return num"
   ]
  },
  {
   "cell_type": "code",
   "execution_count": 36,
   "metadata": {},
   "outputs": [],
   "source": [
    "def calcCowsAndBulls(report):\n",
    "    global bulls,cows,steps\n",
    "    cows = 0\n",
    "    bulls = 0\n",
    "    steps = steps + 1\n",
    "    calculateBulls()\n",
    "    if(bulls == n):\n",
    "        cows = bulls\n",
    "    else:\n",
    "        calculateCows()\n",
    "    if (report == True):\n",
    "        print(COWS_AND_BULLS_CALCULATED_STRING % (bulls, cows))"
   ]
  },
  {
   "cell_type": "code",
   "execution_count": 8,
   "metadata": {},
   "outputs": [],
   "source": [
    "def calculateCows():\n",
    "    global cows\n",
    "    for i in guessNum:\n",
    "        for j in range(n):\n",
    "            if(i == secNum[j]):\n",
    "                cows = cows + 1\n",
    "        "
   ]
  },
  {
   "cell_type": "code",
   "execution_count": 9,
   "metadata": {},
   "outputs": [],
   "source": [
    "def calculateBulls():\n",
    "    global bulls\n",
    "    for i in range(n):\n",
    "        if(secNum[i] == guessNum[i]):\n",
    "            bulls = bulls + 1"
   ]
  },
  {
   "cell_type": "code",
   "execution_count": 25,
   "metadata": {},
   "outputs": [],
   "source": [
    "def makeUserGuess():\n",
    "    global bulls,cows,guessNum,secNum\n",
    "    while(bulls!=n):\n",
    "        print(ENTER_NUMBER_STRING, n)\n",
    "        number = input()\n",
    "        guessNum = [int(x) for x in str(number)]\n",
    "        calcCowsAndBulls(True)"
   ]
  },
  {
   "cell_type": "code",
   "execution_count": 38,
   "metadata": {},
   "outputs": [],
   "source": [
    "def playGame():\n",
    "    global endGame,secNum,guessNum, n,bulls,cows,steps\n",
    "    bulls = 0\n",
    "    steps = 0\n",
    "    cows = 0\n",
    "    \n",
    "    while(endGame==False):\n",
    "        print(WELCOME_STRING)\n",
    "        secNum = genRandNum(4)\n",
    "        n = len(secNum)\n",
    "\n",
    "        makeUserGuess()\n",
    "        endGame = True\n",
    "    print(WIN_STRING % steps)\n",
    "    print(GOODBYE_STRING)\n",
    "    endGame = False"
   ]
  },
  {
   "cell_type": "code",
   "execution_count": 39,
   "metadata": {},
   "outputs": [
    {
     "name": "stdout",
     "output_type": "stream",
     "text": [
      "Welcome to the game 'Bulls and Cows'\n",
      "Generating  the number of size 4 ...\n",
      "Please type your guess number \n",
      "(%s numbers maximum):  4\n",
      "1234\n",
      "Your number has 1 bulls and 1 cows.\n",
      "Please type your guess number \n",
      "(%s numbers maximum):  4\n",
      "5234\n",
      "Your number has 1 bulls and 2 cows.\n",
      "Please type your guess number \n",
      "(%s numbers maximum):  4\n",
      "5634\n",
      "Your number has 1 bulls and 2 cows.\n",
      "Please type your guess number \n",
      "(%s numbers maximum):  4\n",
      "5734\n",
      "Your number has 1 bulls and 3 cows.\n",
      "Please type your guess number \n",
      "(%s numbers maximum):  4\n",
      "5784\n",
      "Your number has 1 bulls and 3 cows.\n",
      "Please type your guess number \n",
      "(%s numbers maximum):  4\n",
      "5794\n",
      "Your number has 2 bulls and 4 cows.\n",
      "Please type your guess number \n",
      "(%s numbers maximum):  4\n",
      "7594\n",
      "Your number has 4 bulls and 4 cows.\n",
      "Congratulation! You guessed the number (in 7 steps!)\n",
      "Goodbye!\n"
     ]
    }
   ],
   "source": [
    "playGame()"
   ]
  },
  {
   "cell_type": "code",
   "execution_count": null,
   "metadata": {},
   "outputs": [],
   "source": []
  }
 ],
 "metadata": {
  "celltoolbar": "Attachments",
  "kernelspec": {
   "display_name": "Python 3",
   "language": "python",
   "name": "python3"
  },
  "language_info": {
   "codemirror_mode": {
    "name": "ipython",
    "version": 3
   },
   "file_extension": ".py",
   "mimetype": "text/x-python",
   "name": "python",
   "nbconvert_exporter": "python",
   "pygments_lexer": "ipython3",
   "version": "3.7.0"
  }
 },
 "nbformat": 4,
 "nbformat_minor": 2
}
