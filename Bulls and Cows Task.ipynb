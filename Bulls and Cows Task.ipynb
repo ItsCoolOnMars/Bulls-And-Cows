{
 "cells": [
  {
   "cell_type": "markdown",
   "metadata": {},
   "source": [
    "# BULLS AND COWS TASK FOR EGRESS"
   ]
  },
  {
   "cell_type": "markdown",
   "metadata": {},
   "source": [
    "## Task Overview\n",
    "\n",
    "Bulls and Cows is an old code-breaking game for two players.\n",
    "\n",
    "One of the players writes a 4-digit secret number. The digits must be all different, digit zero (0) is not allowed. Then the other player tries to guess their opponent's number who gives the number of matches. If the matching digits are on their right positions, they are \"bulls\", if on different positions, they are \"cows\". Example:\n",
    "\n",
    "• Secret number: 4271\n",
    "• Opponent's try: 1234\n",
    "• Answer: 1 bull and 2 cows. (The bull is \"2\", the cows are \"4\" and \"1\".)\n",
    "\n",
    "The task is to figure out the secret number (“4 bulls”).\n",
    "Write a game where computer generates a 4 digits number (the digits must be all different, digit zero (0) is not allowed), and then repeatedly asks for the human guesses, and prints the output, until the number is found."
   ]
  }
 ],
 "metadata": {
  "celltoolbar": "Attachments",
  "kernelspec": {
   "display_name": "Python 3",
   "language": "python",
   "name": "python3"
  },
  "language_info": {
   "codemirror_mode": {
    "name": "ipython",
    "version": 3
   },
   "file_extension": ".py",
   "mimetype": "text/x-python",
   "name": "python",
   "nbconvert_exporter": "python",
   "pygments_lexer": "ipython3",
   "version": "3.7.0"
  }
 },
 "nbformat": 4,
 "nbformat_minor": 2
}
